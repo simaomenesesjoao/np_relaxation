{
 "cells": [
  {
   "cell_type": "code",
   "execution_count": 138,
   "id": "71a6bd26-7f3f-46ba-a9d8-5a1b1b15c79f",
   "metadata": {},
   "outputs": [],
   "source": [
    "import numpy as np\n",
    "import matplotlib.pyplot as plt\n",
    "from mpl_toolkits.mplot3d import Axes3D\n",
    "import matplotlib\n",
    "import sys"
   ]
  },
  {
   "cell_type": "code",
   "execution_count": null,
   "id": "b80a8778-8c38-4ec4-9c43-fe77a7f0408a",
   "metadata": {},
   "outputs": [],
   "source": []
  },
  {
   "cell_type": "code",
   "execution_count": null,
   "id": "d1e6665d-cc98-4930-b46b-bf6daff8042e",
   "metadata": {},
   "outputs": [],
   "source": []
  },
  {
   "cell_type": "code",
   "execution_count": 140,
   "id": "c47149d5-15a4-4010-a052-8cf393255212",
   "metadata": {},
   "outputs": [
    {
     "name": "stdout",
     "output_type": "stream",
     "text": [
      "/usr/lib/python3.11/site-packages/ipykernel_launcher.py\n",
      "program running in a jupyter notebook\n",
      "[NbConvertApp] Converting notebook relaxation.ipynb to script\n",
      "[NbConvertApp] Writing 10513 bytes to relaxation.py\n"
     ]
    }
   ],
   "source": [
    "\n",
    "script_name = sys.argv[0]\n",
    "print(script_name)\n",
    "in_jupyter = \"ipykernel_launcher\" in script_name\n",
    "\n",
    "if in_jupyter:\n",
    "    print(\"program running in a jupyter notebook\")\n",
    "    !jupyter nbconvert --to script relaxation.ipynb\n",
    "\n",
    "else:\n",
    "    print(\"program running as a python script\")"
   ]
  },
  {
   "cell_type": "markdown",
   "id": "e39f2847-001b-4a56-b460-1373d4a1e1e5",
   "metadata": {},
   "source": [
    "# Source code"
   ]
  },
  {
   "cell_type": "code",
   "execution_count": 91,
   "id": "e5f657b2-1f95-4752-83ca-3369e077f832",
   "metadata": {},
   "outputs": [],
   "source": [
    "D = 3\n",
    "dirs = np.eye(D) "
   ]
  },
  {
   "cell_type": "markdown",
   "id": "c8b3fff1-a34b-47f2-b94d-a89ba9f5b15f",
   "metadata": {},
   "source": [
    "## Potentials"
   ]
  },
  {
   "cell_type": "code",
   "execution_count": 41,
   "id": "0934c48c-b2b7-4a71-a94e-593122233d01",
   "metadata": {},
   "outputs": [],
   "source": [
    "# Use Lennard-Jones for the pair potential\n",
    "def LJ_pot(x, eps=1, sig=1, pow1=12):\n",
    "    pow2 = pow1//2\n",
    "    return 4*eps*((sig/x)**pow1 - (sig/x)**pow2)\n",
    "\n",
    "# Use Lennard-Jones for the pair potential\n",
    "def LJ_force(x, eps=1, sig=1, pow1=12):\n",
    "    pow2 = pow1//2\n",
    "    return -4*eps/sig*(-pow1*(sig/x)**(pow1+1) + pow2*(sig/x)**(pow2+1))\n",
    "\n",
    "def LJ_f_eq_0(eps=1,sig=1,pow1=12):\n",
    "    pow2 = pow1//2\n",
    "    return sig*2**(1/pow2)\n",
    "    "
   ]
  },
  {
   "cell_type": "code",
   "execution_count": null,
   "id": "99e51a1a-340b-4ea0-8743-75a7bda3f30a",
   "metadata": {},
   "outputs": [],
   "source": []
  },
  {
   "cell_type": "markdown",
   "id": "de3446b4-4f46-480d-982b-cb714cad0513",
   "metadata": {},
   "source": [
    "## Class constructor"
   ]
  },
  {
   "cell_type": "code",
   "execution_count": 3,
   "id": "f2bea19c-5a3c-4c46-b9ee-9f4885008cb3",
   "metadata": {},
   "outputs": [],
   "source": [
    "class nanoparticle:\n",
    "    def __init__(self):\n",
    "        return \n"
   ]
  },
  {
   "cell_type": "markdown",
   "id": "c6d9037a-779b-4caf-91de-5e766011a03a",
   "metadata": {},
   "source": [
    "## Lattice structure"
   ]
  },
  {
   "cell_type": "code",
   "execution_count": 33,
   "id": "36ddd9f8-f089-4c69-a8c5-abb4b21e2444",
   "metadata": {},
   "outputs": [],
   "source": [
    "def set_gold_lattice_structure(self):\n",
    "    # Set an FCC structure and the lattice parameters\n",
    "    \n",
    "    self.a0 = 4.0          # [nm] length of the FCC cubic cell\n",
    "    self.a = self.a0/np.sqrt(2) # [nm] interatomic distance\n",
    "    self.D = 3\n",
    "\n",
    "    \n",
    "    self.a1 = np.array([0,1,1])*self.a0/2\n",
    "    self.a2 = np.array([1,0,1])*self.a0/2\n",
    "    self.a3 = np.array([1,1,0])*self.a0/2\n",
    "\n",
    "    self.A = np.zeros([D,D])\n",
    "    self.A[0,:] = self.a1\n",
    "    self.A[1,:] = self.a2\n",
    "    self.A[2,:] = self.a3\n",
    "    \n",
    "    # First nearest neighbours, in units of the primitive vectors, and corresponding coordinates\n",
    "    self.first_neighs = np.array([ [1,0,0],  [0,1,0],  [0,0,1], [-1,0,0], [0,-1,0], [0,0,-1],\n",
    "                         [1,-1,0], [-1,1,0], [1,0,-1], [-1,0,1], [0,1,-1], [0,-1,1]], dtype=int)\n",
    "    \n",
    "    self.second_neighs = np.array([[1,1,-1], [-1,-1,1], [1,-1,1], [-1,1,-1], [-1,1,1], [1,-1,-1]], dtype=int)\n",
    "\n",
    "    # return 0\n",
    "\n",
    "nanoparticle.set_gold_lattice_structure = set_gold_lattice_structure"
   ]
  },
  {
   "cell_type": "markdown",
   "id": "9442f62f-4603-4b4b-8d29-7f04423d0ee5",
   "metadata": {},
   "source": [
    "# Position generation"
   ]
  },
  {
   "cell_type": "code",
   "execution_count": 9,
   "id": "4d749086-c261-4503-a798-6bf3195e7699",
   "metadata": {},
   "outputs": [],
   "source": [
    "def create_rectangular(self, N1, N2, N3):\n",
    "  # Creates a nanoparticle with parallel facets\n",
    "\n",
    "    self.N = N1*N2*N3 # total number of points\n",
    "    self.coordinates = np.array([self.N, self.D])\n",
    "    \n",
    "    n = 0\n",
    "    for i in range(N1):\n",
    "        for j in range(N2):\n",
    "            for k in range(N3):\n",
    "                R = i*self.a1 + j*self.a2 + k*self.a3\n",
    "                \n",
    "                self.coordinates[n,:] = [i,j,k]\n",
    "                n += 1\n",
    "\n",
    "\n",
    "    self.positions = self.coordinates@self.A\n",
    "    self.xs = self.positions[:,0]\n",
    "    self.ys = self.positions[:,1]\n",
    "    self.zs = self.positions[:,2]\n",
    "\n",
    "def create_sphere(self, radius):\n",
    "    # Creates a sphere centered at the origin. The neighbours are expressed in\n",
    "    # terms of the primitive vectors. a1, a2, a3 and radius are in nanometers\n",
    "    coordinates = [[0,0,0]]\n",
    "    \n",
    "    n = 0\n",
    "    while n < len(coordinates):\n",
    "        a,b,c = coordinates[n] # lattice coordinates of the current atom\n",
    "        \n",
    "        for neigh in self.first_neighs:\n",
    "            i,j,k = neigh          # difference in lattice coordinates\n",
    "            x,y,z = i+a, j+b, k+c  # lattice coordinates of the new proposed atom\n",
    "            R = x*self.a1 + y*self.a2 + z*self.a3 # position vector\n",
    "        \n",
    "            # Check if the new proposed atom is inside the sphere and that it has\n",
    "            # not yet been considered\n",
    "            if np.linalg.norm(R) < radius and [x,y,z] not in coordinates:\n",
    "                coordinates.append([x,y,z])\n",
    "        \n",
    "        n += 1\n",
    "\n",
    "    self.N = len(coordinates)\n",
    "    self.coordinates = np.array(coordinates)\n",
    "    self.positions = self.coordinates@self.A\n",
    "    self.xs = self.positions[:,0]\n",
    "    self.ys = self.positions[:,1]\n",
    "    self.zs = self.positions[:,2]\n",
    "\n",
    "nanoparticle.create_rectangular = create_rectangular\n",
    "nanoparticle.create_sphere = create_sphere"
   ]
  },
  {
   "cell_type": "markdown",
   "id": "f605f5f3-dae9-4d55-b720-b7d252dae839",
   "metadata": {},
   "source": [
    "## Neighbour list"
   ]
  },
  {
   "cell_type": "code",
   "execution_count": 44,
   "id": "06fd9c23-aa1e-4e20-9dd3-c3a0062708d7",
   "metadata": {},
   "outputs": [],
   "source": [
    "def get_neighbour_list(self, increments):\n",
    "    # increments is the list of neighbours to check. This is chosen by the user manually\n",
    "\n",
    "    max_neighs = len(increments)\n",
    "    \n",
    "    self.neigh_list = np.zeros([self.N,  max_neighs], dtype=int) - 1\n",
    "    self.num_neigh_list = np.zeros(self.N, dtype=int)\n",
    "\n",
    "    clist = [list(c) for c in self.coordinates]\n",
    "    for n, coord in enumerate(self.coordinates):\n",
    "        \n",
    "        num = 0\n",
    "        for inc in increments:\n",
    "            neigh = list(coord + inc)\n",
    "            \n",
    "            if neigh in clist:\n",
    "                m = clist.index(neigh)\n",
    "                self.neigh_list[n, num] = m\n",
    "                num += 1\n",
    "\n",
    "        self.num_neigh_list[n] = num\n",
    "            \n",
    "\n",
    "\n",
    "def get_neighbour_list_automatic(self, first=True, second=False):\n",
    "    if first and not second:\n",
    "        self.get_neighbour_list(self.first_neighs)\n",
    "    elif second and first:\n",
    "        both = np.array(list(self.first_neighs)+list(self.second_neighs))\n",
    "        self.get_neighbour_list(both)\n",
    "    elif not first and second:\n",
    "        self.get_neighbour_list(self.second_neighs)\n",
    "    else:\n",
    "        print(\"Error: No list of neighbours selected\")\n",
    "\n",
    "nanoparticle.get_neighbour_list = get_neighbour_list\n",
    "nanoparticle.get_neighbour_list_automatic = get_neighbour_list_automatic"
   ]
  },
  {
   "cell_type": "markdown",
   "id": "ae7ed89c-6f50-4166-a462-51f75d62ebcd",
   "metadata": {},
   "source": [
    "# Dynamics"
   ]
  },
  {
   "cell_type": "code",
   "execution_count": 53,
   "id": "80d9d548-d31c-425d-ac36-6161f7678a96",
   "metadata": {},
   "outputs": [],
   "source": [
    "def get_forces(self):\n",
    "    # Assumes the force is central\n",
    "\n",
    "    forces = np.zeros([self.N, self.D])\n",
    "    for n, pos in enumerate(self.positions):\n",
    "\n",
    "        total_dif = np.zeros(D) # normal to surface\n",
    "\n",
    "        num_neighs = self.num_neigh_list[n]\n",
    "        for m in range(num_neighs):\n",
    "            neigh = self.neigh_list[n,m]\n",
    "            pos_neigh = self.positions[neigh]\n",
    "            dif = pos_neigh - pos\n",
    "            total_dif += dif\n",
    "       \n",
    "            dist = np.linalg.norm(dif)\n",
    "            unit = dif/dist\n",
    "       \n",
    "            forces[n] += -unit*self.force(dist)\n",
    "    \n",
    "    \n",
    "        # Check if it's at the surface\n",
    "        if num_neighs != 12:\n",
    "            forces[n] += total_dif*self.hydrostatic\n",
    "\n",
    "\n",
    "    return forces\n",
    "\n",
    "\n",
    "nanoparticle.get_forces = get_forces\n",
    "# def get_force(n, m, positions, neigh_list, F, hydrostatic):\n",
    "#     # get the force on atom n due to atom m and hydrostatic pressure\n",
    "#     pos1 = positions[n]\n",
    "#     pos2 = positions[m]\n",
    "\n",
    "#     dif = pos2 - pos1    \n",
    "#     dist = np.linalg.norm(dif)\n",
    "#     unit = dif/dist\n",
    "#     force = -unit*F(dist)\n",
    "\n",
    "#     # Check if it's at the surface\n",
    "#     total_dif = np.zeros(D)\n",
    "#     for k in neigh_list[n]:\n",
    "#         pos_neigh = positions[k]\n",
    "#         dif = pos_neigh - pos1\n",
    "#         total_dif += dif\n",
    "        \n",
    "#     if len(neigh_list[n]) != 12:\n",
    "#         print(\"Atom not in bulk\")\n",
    "#         force += total_dif*hydrostatic\n",
    "        \n",
    "#     return force"
   ]
  },
  {
   "cell_type": "code",
   "execution_count": 66,
   "id": "aa574e33-a617-41b4-8149-c8af6064b044",
   "metadata": {},
   "outputs": [],
   "source": [
    "def get_next_positions(self, dt):\n",
    "    # updates the positions of the atoms using the function F\n",
    "    # returns the new positions and the norm of the forces\n",
    "    \n",
    "    forces = self.get_forces()\n",
    "    new_positions = self.positions + forces*dt\n",
    "    dif = np.linalg.norm(forces)\n",
    "    return new_positions, dif\n",
    "\n",
    "nanoparticle.get_next_positions = get_next_positions\n",
    "\n"
   ]
  },
  {
   "cell_type": "code",
   "execution_count": 73,
   "id": "9b20b752-cdf0-4570-a3f3-7c66045569d4",
   "metadata": {},
   "outputs": [],
   "source": [
    "def relax(self, niter=100, dt=0.01):\n",
    "    difs = np.zeros(niter)\n",
    "    \n",
    "    for i in range(niter):\n",
    "        new_positions, dif = self.get_next_positions(dt)\n",
    "        self.positions = new_positions.copy()\n",
    "        difs[i] = dif\n",
    "        \n",
    "    return difs\n",
    "\n",
    "nanoparticle.relax = relax\n"
   ]
  },
  {
   "cell_type": "code",
   "execution_count": null,
   "id": "48040008-1596-481a-ad6a-e0f319c0961e",
   "metadata": {},
   "outputs": [],
   "source": []
  },
  {
   "cell_type": "markdown",
   "id": "dff0d67e-70a5-4860-a408-f4cbfa7762fa",
   "metadata": {},
   "source": [
    "## Linearization"
   ]
  },
  {
   "cell_type": "code",
   "execution_count": 101,
   "id": "c0f76787-1e61-4a92-903f-74b8742951c2",
   "metadata": {},
   "outputs": [],
   "source": [
    "# Dynamical matrix DxD block\n",
    "\n",
    "def get_phi_block(R1, R2, ϕ, eps = 1e-6):\n",
    "    \n",
    "    d0 = np.linalg.norm(R2-R1)\n",
    "    \n",
    "    # find the first and second derivatives\n",
    "    der1 = np.zeros(D)\n",
    "    der2_od = np.zeros([D,D])\n",
    "    \n",
    "    for i in range(D):\n",
    "        u = dirs[i]*eps\n",
    "        d1 = np.linalg.norm(R2 + u - R1)\n",
    "        d2 = np.linalg.norm(R2 - u - R1)\n",
    "        der1[i] = (ϕ(d1) - ϕ(d2))/eps/2\n",
    "        der2_od[i,i] = (ϕ(d1) + ϕ(d2) - 2*ϕ(d0))/eps**2/2\n",
    "    \n",
    "    \n",
    "    for i in range(D):\n",
    "        for j in range(D):\n",
    "            if i==j: continue\n",
    "            uij = eps*(dirs[i] + dirs[j])\n",
    "            d1 = np.linalg.norm(R2 + uij - R1)\n",
    "            d2 = np.linalg.norm(R2 - uij - R1)\n",
    "            der2_od[i,j] = (ϕ(d1) + ϕ(d2) - 2*ϕ(d0))/eps**2/2\n",
    "            der2_od[i,j] -= der2_od[i,i] + der2_od[j,j]\n",
    "    \n",
    "            der2_od[i,j] /= 2\n",
    "    \n",
    "    return der1, der2_od*2\n",
    "\n"
   ]
  },
  {
   "cell_type": "code",
   "execution_count": 104,
   "id": "f80d5f08-59eb-43af-8d60-222fd4cf0db2",
   "metadata": {},
   "outputs": [],
   "source": [
    "\n",
    "def get_phi_matrix(self, eps = 1e-6):\n",
    "    phi_matrix = np.zeros([self.N*self.D, self.N*self.D])\n",
    "    for i,Ri in enumerate(self.positions):\n",
    "        num_neighs = self.num_neigh_list[i]\n",
    "        \n",
    "        for neigh in range(num_neighs):\n",
    "            j = self.neigh_list[i,neigh]\n",
    "            Rj = self.positions[j]\n",
    "            \n",
    "            der1, der2 = get_phi_block(Ri, Rj, self.potential, eps)\n",
    "            phi_matrix[i*D:i*D+D,j*D:j*D+D] = der2\n",
    "    return phi_matrix\n",
    "\n",
    "def get_dyn_matrix(self, eps = 1e-6):\n",
    "    phi_matrix = self.get_phi_matrix(eps)\n",
    "    dyn_matrix = -phi_matrix\n",
    "    for i in range(self.N):\n",
    "        for j in range(self.N):\n",
    "            dyn_matrix[i*D:i*D+D, i*D:i*D+D] += phi_matrix[i*D:i*D+D,j*D:j*D+D]\n",
    "    return dyn_matrix\n",
    "\n",
    "nanoparticle.get_phi_matrix = get_phi_matrix\n",
    "nanoparticle.get_dyn_matrix = get_dyn_matrix"
   ]
  },
  {
   "cell_type": "code",
   "execution_count": null,
   "id": "c35806a2-5cbf-44e4-9275-3447196068a6",
   "metadata": {},
   "outputs": [],
   "source": []
  },
  {
   "cell_type": "markdown",
   "id": "ebd1b16c-b41d-4a81-8bd2-bcf42171f2ed",
   "metadata": {},
   "source": [
    "## A and B force constants"
   ]
  },
  {
   "cell_type": "code",
   "execution_count": 107,
   "id": "6210a6b3-16f2-4149-8adb-cdccf4995610",
   "metadata": {},
   "outputs": [],
   "source": [
    "\n",
    "def get_AB_from_block(R1, R2, block):\n",
    "    dR = R2 - R1\n",
    "    uR = dR/np.linalg.norm(dR)\n",
    "\n",
    "    # get two vectors orthogonal to dR\n",
    "    orth_vec1 = np.array([    0, dR[2], -dR[1]])\n",
    "    orth_vec2 = np.array([dR[2],     0, -dR[0]])\n",
    "\n",
    "    # It can happen than the vector being used to orthogonalize dR\n",
    "    # is along dR. So we need to try two different vectors and see\n",
    "    # which one is best\n",
    "    orth_vec = orth_vec1.copy()\n",
    "    if np.linalg.norm(orth_vec1) < np.linalg.norm(orth_vec2):\n",
    "        orth_vec = orth_vec2.copy()\n",
    "\n",
    "    orth_vec = orth_vec/np.linalg.norm(orth_vec)\n",
    "    A = orth_vec@block@orth_vec\n",
    "\n",
    "    B_plus_A = uR@block@uR\n",
    "    B = B_plus_A - A\n",
    "    \n",
    "    return A, B\n",
    "\n",
    "def get_AB(self, eps=1e-6):\n",
    "    A_list = self.neigh_list*0.0\n",
    "    B_list = self.neigh_list*0.0\n",
    "    A_matrix = np.zeros([self.N, self.N])\n",
    "    B_matrix = np.zeros([self.N, self.N])\n",
    "    \n",
    "    for i,Ri in enumerate(self.positions):\n",
    "        num_neighs = self.num_neigh_list[i]\n",
    "        \n",
    "        for n in range(num_neighs):\n",
    "            j = self.neigh_list[i,n]\n",
    "            Rj = self.positions[j]\n",
    "            \n",
    "            der1, block = get_phi_block(Ri, Rj, self.potential, eps)\n",
    "            A, B = get_AB_from_block(Ri, Rj, block)\n",
    "\n",
    "            A_list[i, n] = A\n",
    "            B_list[i, n] = B\n",
    "\n",
    "            A_matrix[i,j] = A\n",
    "            B_matrix[i,j] = B\n",
    "            \n",
    "    return A_list, B_list, A_matrix, B_matrix\n",
    "\n",
    "\n",
    "nanoparticle.get_AB = get_AB"
   ]
  },
  {
   "cell_type": "code",
   "execution_count": null,
   "id": "2d95ca63-db57-4625-8666-8da9d4c106cb",
   "metadata": {},
   "outputs": [],
   "source": []
  }
 ],
 "metadata": {
  "kernelspec": {
   "display_name": "Python 3 (ipykernel)",
   "language": "python",
   "name": "python3"
  },
  "language_info": {
   "codemirror_mode": {
    "name": "ipython",
    "version": 3
   },
   "file_extension": ".py",
   "mimetype": "text/x-python",
   "name": "python",
   "nbconvert_exporter": "python",
   "pygments_lexer": "ipython3",
   "version": "3.11.6"
  }
 },
 "nbformat": 4,
 "nbformat_minor": 5
}
